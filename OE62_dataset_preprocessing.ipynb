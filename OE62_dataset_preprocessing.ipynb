{
 "cells": [
  {
   "attachments": {},
   "cell_type": "markdown",
   "id": "4ba887c9",
   "metadata": {},
   "source": [
    "# OE62 Dataset Preprocessing"
   ]
  },
  {
   "attachments": {},
   "cell_type": "markdown",
   "id": "f9512133",
   "metadata": {},
   "source": [
    "Generate LMDB files with structures and energy targets from the raw OE62 data [1]. As the raw DFT energies have a large absolute offset, perform a linear fit as outlined in Appendix A.10 of the Ewald message passing reference paper. Parts of this code are based on the original OE62 data analysis notebook."
   ]
  },
  {
   "cell_type": "code",
   "execution_count": 10,
   "id": "063abed5",
   "metadata": {},
   "outputs": [],
   "source": [
    "import matplotlib.pyplot as plt\n",
    "import lmdb\n",
    "import pickle\n",
    "from tqdm import tqdm\n",
    "import torch\n",
    "import os\n",
    "from io import StringIO\n",
    "from ase.io import read\n",
    "\n",
    "from copy import deepcopy\n",
    "import numpy as np\n",
    "import pandas as pd\n",
    "\n",
    "pd.set_option('display.width',5000)\n",
    "pd.set_option('display.max_columns',200)\n",
    "\n",
    "# Coulomb constants for electrostatic energy computation\n",
    "ke = 14.399645351950548\n",
    "kehalf = ke / 2"
   ]
  },
  {
   "cell_type": "code",
   "execution_count": 11,
   "id": "7072db6e",
   "metadata": {},
   "outputs": [],
   "source": [
    "# Replace this by the directory containing the downloaded raw OE62 data\n",
    "oe62_path = \"oe62\"\n",
    "# Use the 62k dataframe containing the full OE62 dataset\n",
    "df_path = os.path.join(oe62_path, \"df_62k.json\")\n",
    "os.makedirs(\"oe62\", exist_ok=True)"
   ]
  },
  {
   "cell_type": "code",
   "execution_count": 12,
   "id": "452d751b",
   "metadata": {},
   "outputs": [
    {
     "name": "stdout",
     "output_type": "stream",
     "text": [
      "(61489, 29)\n"
     ]
    }
   ],
   "source": [
    "# Let's first load the dataframe into memory, this might take a moment.\n",
    "# orient='split' keeps the column order as specified in table 2 of the publication.\n",
    "\n",
    "df_62k = pd.read_json(df_path, orient='split') \n",
    "\n",
    "# Shape of the tabular dataframe returned in a tuple: (<number_of_rows>, <number_of_columns>)\n",
    "print(df_62k.shape)"
   ]
  },
  {
   "cell_type": "code",
   "execution_count": 13,
   "id": "de778bb6",
   "metadata": {},
   "outputs": [
    {
     "data": {
      "text/plain": [
       "Index(['refcode_csd', 'canonical_smiles', 'inchi', 'number_of_atoms', 'xyz_pbe_relaxed', 'energies_occ_pbe', 'energies_occ_pbe0_vac_tier2', 'energies_occ_pbe0_water', 'energies_occ_pbe0_vac_tzvp', 'energies_occ_pbe0_vac_qzvp', 'energies_occ_gw_tzvp', 'energies_occ_gw_qzvp', 'cbs_occ_gw', 'energies_unocc_pbe', 'energies_unocc_pbe0_vac_tier2', 'energies_unocc_pbe0_water', 'energies_unocc_pbe0_vac_tzvp', 'energies_unocc_pbe0_vac_qzvp', 'energies_unocc_gw_tzvp', 'energies_unocc_gw_qzvp', 'cbs_unocc_gw', 'total_energy_pbe', 'total_energy_pbe0_vac_tier2', 'total_energy_pbe0_water', 'total_energy_pbe0_vac_tzvp', 'total_energy_pbe0_vac_qzvp', 'hirshfeld_pbe', 'hirshfeld_pbe0_vac_tier2', 'hirshfeld_pbe0_water'], dtype='object')"
      ]
     },
     "execution_count": 13,
     "metadata": {},
     "output_type": "execute_result"
    }
   ],
   "source": [
    "df_62k.columns"
   ]
  },
  {
   "cell_type": "code",
   "execution_count": 14,
   "id": "b56b4348",
   "metadata": {},
   "outputs": [],
   "source": [
    "df_62k = df_62k.reset_index(drop=True)"
   ]
  },
  {
   "attachments": {},
   "cell_type": "markdown",
   "id": "55596305",
   "metadata": {},
   "source": [
    "To reproduce the binning experiments from the Ewald MP reference paper, rerun this notebook with d3fit == True (used to obtain the energy MAEs of the \"cheating\" baseline variation which does not have to learn D3 contributions)"
   ]
  },
  {
   "cell_type": "code",
   "execution_count": 34,
   "id": "004ec4c6",
   "metadata": {},
   "outputs": [],
   "source": [
    "d3fit = False"
   ]
  },
  {
   "attachments": {},
   "cell_type": "markdown",
   "id": "c142ef03",
   "metadata": {},
   "source": [
    "### Determine which atom types exist in OE62 and map each of them to a unique integer"
   ]
  },
  {
   "cell_type": "code",
   "execution_count": 35,
   "id": "8259e55f",
   "metadata": {},
   "outputs": [
    {
     "name": "stderr",
     "output_type": "stream",
     "text": [
      "100%|██████████| 61489/61489 [00:11<00:00, 5393.05it/s]\n"
     ]
    }
   ],
   "source": [
    "from collections import Counter\n",
    "\n",
    "all_symbols = []\n",
    "\n",
    "for index, entry in tqdm(df_62k.iterrows(), total=len(df_62k)):\n",
    "    atom_string = StringIO(entry[\"xyz_pbe_relaxed\"])\n",
    "    xyz_data = read(atom_string, format='xyz')\n",
    "    symbols = xyz_data.get_chemical_symbols()\n",
    "    for s in symbols:\n",
    "        if s not in all_symbols:\n",
    "            all_symbols.append(s)"
   ]
  },
  {
   "cell_type": "code",
   "execution_count": 36,
   "id": "1d0ad841",
   "metadata": {
    "scrolled": true
   },
   "outputs": [
    {
     "name": "stdout",
     "output_type": "stream",
     "text": [
      "['O', 'S', 'C', 'H', 'Cl', 'N', 'F', 'Br', 'Si', 'Se', 'P', 'B', 'I', 'Te', 'As', 'Li']\n",
      "16\n",
      "{'O': 0, 'S': 1, 'C': 2, 'H': 3, 'Cl': 4, 'N': 5, 'F': 6, 'Br': 7, 'Si': 8, 'Se': 9, 'P': 10, 'B': 11, 'I': 12, 'Te': 13, 'As': 14, 'Li': 15}\n"
     ]
    }
   ],
   "source": [
    "print(all_symbols)\n",
    "num_elements = len(all_symbols)\n",
    "print(num_elements)\n",
    "index_map = dict(zip(all_symbols, range(num_elements)))\n",
    "print(index_map)"
   ]
  },
  {
   "attachments": {},
   "cell_type": "markdown",
   "id": "a157f006",
   "metadata": {},
   "source": [
    "### Compute energies and regress targets"
   ]
  },
  {
   "cell_type": "code",
   "execution_count": 37,
   "id": "7a2a7326",
   "metadata": {},
   "outputs": [
    {
     "name": "stderr",
     "output_type": "stream",
     "text": [
      "100%|██████████| 61489/61489 [01:03<00:00, 966.75it/s] \n"
     ]
    }
   ],
   "source": [
    "from sklearn.linear_model import LinearRegression\n",
    "if d3fit:\n",
    "    from dftd3.interface import DispersionModel, RationalDampingParam\n",
    "\n",
    "regression_samples = []\n",
    "targets = []\n",
    "for index, entry in tqdm(df_62k.iterrows(), total=len(df_62k)):\n",
    "    atom_string = StringIO(entry[\"xyz_pbe_relaxed\"])\n",
    "\n",
    "    xyz_data = read(atom_string, format='xyz')\n",
    "    atomic_numbers = torch.Tensor(xyz_data.get_atomic_numbers())\n",
    "    pos_bohr = torch.Tensor(xyz_data.get_positions())*1.8897259886\n",
    "    \n",
    "    # Compute DFT-D3 dispersion energy\n",
    "    if d3fit:\n",
    "        dispersion = DispersionModel(numbers=atomic_numbers.numpy(), \n",
    "                                 positions=pos_bohr.numpy())\n",
    "        # Use recommended PBE0 BJ damping coefficients\n",
    "        damp_param = RationalDampingParam(s6=1.0, a1=0.4145, s8=1.2177, a2=4.8593)\n",
    "        e_vdw = dispersion.get_dispersion(damp_param, grad=False).get(\"energy\")*27.211386245988\n",
    "    else:\n",
    "        e_vdw = 0\n",
    "\n",
    "    symbols = xyz_data.get_chemical_symbols()\n",
    "    counts = Counter(symbols)\n",
    "    regression_sample = [0]*16\n",
    "    for key, val in counts.items():\n",
    "        regression_sample[index_map[key]] = val\n",
    "    regression_samples.append(regression_sample)\n",
    "    targets.append(-entry.total_energy_pbe0_vac_tier2 + e_vdw)\n",
    "    \n",
    "\n",
    "regression_samples = np.array(regression_samples, dtype=float)\n",
    "targets = np.array(targets, dtype=float)\n",
    "\n",
    "reg = LinearRegression(fit_intercept=True, n_jobs=4, positive=True).fit(regression_samples, targets)     "
   ]
  },
  {
   "cell_type": "code",
   "execution_count": 38,
   "id": "144a4342",
   "metadata": {},
   "outputs": [],
   "source": [
    "ys_relaxed = -targets + reg.predict(regression_samples)"
   ]
  },
  {
   "attachments": {},
   "cell_type": "markdown",
   "id": "b68a42bc",
   "metadata": {},
   "source": [
    "### Define train / validation / test split"
   ]
  },
  {
   "cell_type": "code",
   "execution_count": 39,
   "id": "7abab66c",
   "metadata": {},
   "outputs": [],
   "source": [
    "df_62k_shuffled = df_62k.sample(frac=1, random_state=42)\n",
    "n_train = 50000\n",
    "n_val = 6000"
   ]
  },
  {
   "attachments": {},
   "cell_type": "markdown",
   "id": "4f8cbec0",
   "metadata": {},
   "source": [
    "### Target mean and standard deviation for corresponding \"dataset\" entry in experiment config files"
   ]
  },
  {
   "cell_type": "code",
   "execution_count": 40,
   "id": "5546699c",
   "metadata": {},
   "outputs": [
    {
     "name": "stdout",
     "output_type": "stream",
     "text": [
      "0.004212569638518444\n"
     ]
    }
   ],
   "source": [
    "print(ys_relaxed[df_62k_shuffled[:n_train].index].mean())"
   ]
  },
  {
   "cell_type": "code",
   "execution_count": 41,
   "id": "fd28cd12",
   "metadata": {},
   "outputs": [
    {
     "name": "stdout",
     "output_type": "stream",
     "text": [
      "1.7448031028122368\n"
     ]
    }
   ],
   "source": [
    "print(ys_relaxed[df_62k_shuffled[:n_train].index].std())"
   ]
  },
  {
   "attachments": {},
   "cell_type": "markdown",
   "id": "3c834475",
   "metadata": {},
   "source": [
    "### Generate LMBDs"
   ]
  },
  {
   "cell_type": "code",
   "execution_count": 42,
   "id": "744fad3e",
   "metadata": {},
   "outputs": [],
   "source": [
    "ds_name = \"energy_linref_pbe0_d3fit\" if d3fit == True else \"energy_linref_pbe0\"\n",
    "os.makedirs(os.path.join(\"oe62\", ds_name), exist_ok=True)"
   ]
  },
  {
   "cell_type": "code",
   "execution_count": 43,
   "id": "745e1d10",
   "metadata": {},
   "outputs": [],
   "source": [
    "os.makedirs(os.path.join(\"oe62\", ds_name, \"train\"), exist_ok=True)\n",
    "db = lmdb.open(\n",
    "    os.path.join(\"oe62\", ds_name, \"train\", \"pbe0_train.lmdb\"),\n",
    "    map_size=1099511627776 * 2,\n",
    "    subdir=False,\n",
    "    meminit=False,\n",
    "    map_async=True,\n",
    ")"
   ]
  },
  {
   "cell_type": "code",
   "execution_count": 44,
   "id": "7f6fe319",
   "metadata": {},
   "outputs": [
    {
     "name": "stderr",
     "output_type": "stream",
     "text": [
      "100%|██████████| 50000/50000 [03:25<00:00, 243.52it/s]\n"
     ]
    }
   ],
   "source": [
    "from torch_geometric.data import Data\n",
    "\n",
    "i=0\n",
    "for index, entry in tqdm(df_62k_shuffled[:n_train].iterrows(), total=len(df_62k_shuffled[:n_train])):\n",
    "    atom_string = StringIO(entry[\"xyz_pbe_relaxed\"])\n",
    "    xyz_data = read(atom_string, format='xyz')\n",
    "    atomic_numbers = torch.Tensor(xyz_data.get_atomic_numbers())\n",
    "    pos = torch.Tensor(xyz_data.get_positions())\n",
    "    natoms = pos.shape[0]\n",
    "    fixed = torch.zeros(natoms, dtype=torch.float32)\n",
    "    sid = index\n",
    "    refcode_csd = entry.refcode_csd\n",
    "    y_relaxed = ys_relaxed[index]\n",
    "    \n",
    "    data = Data(\n",
    "            pos=pos,\n",
    "            atomic_numbers=atomic_numbers,\n",
    "            natoms=natoms,\n",
    "            sid=sid,\n",
    "            refcode_csd=refcode_csd,\n",
    "            fixed=fixed,\n",
    "            y_relaxed = y_relaxed\n",
    "        )\n",
    "    \n",
    "    txn = db.begin(write=True)\n",
    "    txn.put(f\"{i}\".encode(\"ascii\"), pickle.dumps(data, protocol=-1))\n",
    "    txn.commit()\n",
    "    db.sync()\n",
    "    i+=1\n",
    "\n",
    "db.close()     "
   ]
  },
  {
   "cell_type": "code",
   "execution_count": 45,
   "id": "24ce958c",
   "metadata": {},
   "outputs": [],
   "source": [
    "os.makedirs(os.path.join(\"oe62\", ds_name, \"val\"), exist_ok=True)\n",
    "db = lmdb.open(\n",
    "    os.path.join(\"oe62\", ds_name, \"val\", \"pbe0_val.lmdb\"),\n",
    "    map_size=1099511627776 * 2,\n",
    "    subdir=False,\n",
    "    meminit=False,\n",
    "    map_async=True,\n",
    ")"
   ]
  },
  {
   "cell_type": "code",
   "execution_count": 46,
   "id": "808f6d5e",
   "metadata": {},
   "outputs": [
    {
     "name": "stderr",
     "output_type": "stream",
     "text": [
      "100%|██████████| 6000/6000 [00:24<00:00, 246.14it/s]\n"
     ]
    }
   ],
   "source": [
    "from torch_geometric.data import Data\n",
    "\n",
    "i=0\n",
    "for index, entry in tqdm(df_62k_shuffled[n_train:n_train+n_val].iterrows(), total=len(df_62k_shuffled[n_train:n_train+n_val])):\n",
    "    atom_string = StringIO(entry[\"xyz_pbe_relaxed\"])\n",
    "    xyz_data = read(atom_string, format='xyz')\n",
    "    atomic_numbers = torch.Tensor(xyz_data.get_atomic_numbers())\n",
    "    pos = torch.Tensor(xyz_data.get_positions())\n",
    "    natoms = pos.shape[0]\n",
    "    fixed = torch.zeros(natoms, dtype=torch.float32)\n",
    "    sid = index\n",
    "    refcode_csd = entry.refcode_csd\n",
    "    y_relaxed = ys_relaxed[index]\n",
    "    \n",
    "    data = Data(\n",
    "            pos=pos,\n",
    "            atomic_numbers=atomic_numbers,\n",
    "            natoms=natoms,\n",
    "            sid=sid,\n",
    "            refcode_csd=refcode_csd,\n",
    "            fixed=fixed,\n",
    "            y_relaxed = y_relaxed,\n",
    "        )\n",
    "    \n",
    "    txn = db.begin(write=True)\n",
    "    txn.put(f\"{i}\".encode(\"ascii\"), pickle.dumps(data, protocol=-1))\n",
    "    txn.commit()\n",
    "    db.sync()\n",
    "    i+=1\n",
    "    \n",
    "db.close()     "
   ]
  },
  {
   "cell_type": "code",
   "execution_count": 47,
   "id": "e4f731aa",
   "metadata": {},
   "outputs": [],
   "source": [
    "os.makedirs(os.path.join(\"oe62\", ds_name, \"test\"), exist_ok=True)\n",
    "db = lmdb.open(\n",
    "    os.path.join(\"oe62\", ds_name, \"test\", \"pbe0_test.lmdb\"),\n",
    "    map_size=1099511627776 * 2,\n",
    "    subdir=False,\n",
    "    meminit=False,\n",
    "    map_async=True,\n",
    ")"
   ]
  },
  {
   "cell_type": "code",
   "execution_count": 48,
   "id": "5b825056",
   "metadata": {},
   "outputs": [
    {
     "name": "stderr",
     "output_type": "stream",
     "text": [
      "100%|██████████| 5489/5489 [00:22<00:00, 244.54it/s]\n"
     ]
    }
   ],
   "source": [
    "i = 0\n",
    "for index, entry in tqdm(df_62k_shuffled[n_train+n_val:].iterrows(), total=len(df_62k_shuffled[n_train+n_val:])):\n",
    "    atom_string = StringIO(entry[\"xyz_pbe_relaxed\"])\n",
    "    xyz_data = read(atom_string, format='xyz')\n",
    "    atomic_numbers = torch.Tensor(xyz_data.get_atomic_numbers())\n",
    "    pos = torch.Tensor(xyz_data.get_positions())\n",
    "    natoms = pos.shape[0]\n",
    "    fixed = torch.zeros(natoms, dtype=torch.float32)\n",
    "    sid = index\n",
    "    refcode_csd = entry.refcode_csd\n",
    "    y_relaxed = ys_relaxed[index]\n",
    "    \n",
    "    data = Data(\n",
    "            pos=pos,\n",
    "            atomic_numbers=atomic_numbers,\n",
    "            natoms=natoms,\n",
    "            sid=sid,\n",
    "            refcode_csd=refcode_csd,\n",
    "            fixed=fixed,\n",
    "            y_relaxed = y_relaxed\n",
    "        )\n",
    "    \n",
    "    txn = db.begin(write=True)\n",
    "    txn.put(f\"{i}\".encode(\"ascii\"), pickle.dumps(data, protocol=-1))\n",
    "    txn.commit()\n",
    "    db.sync()\n",
    "    i+=1\n",
    "\n",
    "db.close()"
   ]
  },
  {
   "attachments": {},
   "cell_type": "markdown",
   "id": "4c63140d",
   "metadata": {},
   "source": [
    "### Store parameters of the energy fit in a json file"
   ]
  },
  {
   "cell_type": "code",
   "execution_count": 49,
   "id": "2691f8b1",
   "metadata": {},
   "outputs": [
    {
     "name": "stdout",
     "output_type": "stream",
     "text": [
      "0.0\n"
     ]
    }
   ],
   "source": [
    "reg_info = {\"Atom to Coefficient Mapping\": dict(zip(all_symbols, range(num_elements))),\n",
    "            \"Regression Coefficients\": list(reg.coef_),\n",
    "            \"Regression Intercept\": float(reg.intercept_)}\n",
    "\n",
    "import json\n",
    "\n",
    "with open(os.path.join(\"oe62\", ds_name, \"offset_fitting_params_pbe0.json\"), \"w\") as f:\n",
    "    json.dump(reg_info, f)\n",
    "\n",
    "with open(os.path.join(\"oe62\", ds_name, \"offset_fitting_params_pbe0.json\")) as f:\n",
    "    my_dict = json.load(f)\n",
    "\n",
    "# Consistency check: this cell should output 0\n",
    "reg2 = LinearRegression()\n",
    "reg2.coef_=np.array(my_dict[\"Regression Coefficients\"])\n",
    "reg2.intercept_=np.array(my_dict[\"Regression Intercept\"])\n",
    "\n",
    "pred = ys_relaxed - reg2.predict(regression_samples)\n",
    "print(np.mean(targets + pred))"
   ]
  },
  {
   "attachments": {},
   "cell_type": "markdown",
   "id": "b7ee5000",
   "metadata": {},
   "source": [
    "# References"
   ]
  },
  {
   "attachments": {},
   "cell_type": "markdown",
   "id": "5324030f",
   "metadata": {},
   "source": [
    "[1] Stuke, A., Kunkel, C., Golze, D., Todorovic, M., Margraf, ´\n",
    "J. T., Reuter, K., Rinke, P., and Oberhofer, H. Atomic\n",
    "structures and orbital energies of 61,489 crystal-forming\n",
    "organic molecules. Scientific Data, 7(1):58, 2020."
   ]
  }
 ],
 "metadata": {
  "kernelspec": {
   "display_name": "Python 3 (ipykernel)",
   "language": "python",
   "name": "python3"
  },
  "language_info": {
   "codemirror_mode": {
    "name": "ipython",
    "version": 3
   },
   "file_extension": ".py",
   "mimetype": "text/x-python",
   "name": "python",
   "nbconvert_exporter": "python",
   "pygments_lexer": "ipython3",
   "version": "3.9.16"
  }
 },
 "nbformat": 4,
 "nbformat_minor": 5
}
